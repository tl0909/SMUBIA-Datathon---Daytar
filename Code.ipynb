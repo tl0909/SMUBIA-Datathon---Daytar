{
  "nbformat": 4,
  "nbformat_minor": 0,
  "metadata": {
    "colab": {
      "provenance": [],
      "include_colab_link": true
    },
    "kernelspec": {
      "name": "python3",
      "display_name": "Python 3"
    },
    "language_info": {
      "name": "python"
    }
  },
  "cells": [
    {
      "cell_type": "markdown",
      "metadata": {
        "id": "view-in-github",
        "colab_type": "text"
      },
      "source": [
        "<a href=\"https://colab.research.google.com/github/tl0909/SMUBIA-Datathon---Daytar/blob/main/Code.ipynb\" target=\"_parent\"><img src=\"https://colab.research.google.com/assets/colab-badge.svg\" alt=\"Open In Colab\"/></a>"
      ]
    },
    {
      "cell_type": "markdown",
      "source": [
        "# **Import Library**"
      ],
      "metadata": {
        "id": "dDpPrj5GqCg7"
      }
    },
    {
      "cell_type": "code",
      "execution_count": 1,
      "metadata": {
        "id": "eMfe6XpIpfIA",
        "colab": {
          "base_uri": "https://localhost:8080/"
        },
        "outputId": "102f75de-c31f-426d-f305-85ad6a3751e8"
      },
      "outputs": [
        {
          "output_type": "stream",
          "name": "stdout",
          "text": [
            "Collecting pycountry\n",
            "  Downloading pycountry-24.6.1-py3-none-any.whl.metadata (12 kB)\n",
            "Downloading pycountry-24.6.1-py3-none-any.whl (6.3 MB)\n",
            "\u001b[2K   \u001b[90m━━━━━━━━━━━━━━━━━━━━━━━━━━━━━━━━━━━━━━━━\u001b[0m \u001b[32m6.3/6.3 MB\u001b[0m \u001b[31m33.1 MB/s\u001b[0m eta \u001b[36m0:00:00\u001b[0m\n",
            "\u001b[?25hInstalling collected packages: pycountry\n",
            "Successfully installed pycountry-24.6.1\n",
            "Requirement already satisfied: geopandas in /usr/local/lib/python3.11/dist-packages (1.0.1)\n",
            "Requirement already satisfied: numpy>=1.22 in /usr/local/lib/python3.11/dist-packages (from geopandas) (1.26.4)\n",
            "Requirement already satisfied: pyogrio>=0.7.2 in /usr/local/lib/python3.11/dist-packages (from geopandas) (0.10.0)\n",
            "Requirement already satisfied: packaging in /usr/local/lib/python3.11/dist-packages (from geopandas) (24.2)\n",
            "Requirement already satisfied: pandas>=1.4.0 in /usr/local/lib/python3.11/dist-packages (from geopandas) (2.2.2)\n",
            "Requirement already satisfied: pyproj>=3.3.0 in /usr/local/lib/python3.11/dist-packages (from geopandas) (3.7.0)\n",
            "Requirement already satisfied: shapely>=2.0.0 in /usr/local/lib/python3.11/dist-packages (from geopandas) (2.0.6)\n",
            "Requirement already satisfied: python-dateutil>=2.8.2 in /usr/local/lib/python3.11/dist-packages (from pandas>=1.4.0->geopandas) (2.8.2)\n",
            "Requirement already satisfied: pytz>=2020.1 in /usr/local/lib/python3.11/dist-packages (from pandas>=1.4.0->geopandas) (2024.2)\n",
            "Requirement already satisfied: tzdata>=2022.7 in /usr/local/lib/python3.11/dist-packages (from pandas>=1.4.0->geopandas) (2025.1)\n",
            "Requirement already satisfied: certifi in /usr/local/lib/python3.11/dist-packages (from pyogrio>=0.7.2->geopandas) (2024.12.14)\n",
            "Requirement already satisfied: six>=1.5 in /usr/local/lib/python3.11/dist-packages (from python-dateutil>=2.8.2->pandas>=1.4.0->geopandas) (1.17.0)\n"
          ]
        },
        {
          "output_type": "stream",
          "name": "stderr",
          "text": [
            "[nltk_data] Downloading package stopwords to /root/nltk_data...\n",
            "[nltk_data]   Unzipping corpora/stopwords.zip.\n",
            "[nltk_data] Downloading package punkt_tab to /root/nltk_data...\n",
            "[nltk_data]   Unzipping tokenizers/punkt_tab.zip.\n",
            "[nltk_data] Downloading package punkt to /root/nltk_data...\n",
            "[nltk_data]   Unzipping tokenizers/punkt.zip.\n",
            "[nltk_data] Downloading package vader_lexicon to /root/nltk_data...\n"
          ]
        }
      ],
      "source": [
        "!pip install pycountry\n",
        "!pip install geopandas\n",
        "\n",
        "import pandas as pd\n",
        "import nltk\n",
        "from nltk.corpus import stopwords\n",
        "from nltk.tokenize import word_tokenize\n",
        "import string\n",
        "import os\n",
        "import re\n",
        "import spacy\n",
        "from spacy.matcher import Matcher\n",
        "import pycountry\n",
        "from sklearn.feature_extraction.text import TfidfVectorizer\n",
        "from sklearn.model_selection import train_test_split\n",
        "from sklearn.svm import LinearSVC\n",
        "from sklearn.metrics import classification_report\n",
        "from sklearn.model_selection import GridSearchCV\n",
        "from textblob import TextBlob\n",
        "from nltk.sentiment.vader import SentimentIntensityAnalyzer\n",
        "import geopandas as gpd\n",
        "import matplotlib.pyplot as plt\n",
        "\n",
        "# Load spaCy's English model\n",
        "nlp = spacy.load('en_core_web_sm')\n",
        "\n",
        "nltk.download('stopwords')\n",
        "nltk.download('punkt_tab')\n",
        "nltk.download('punkt')\n",
        "nltk.download('vader_lexicon')\n",
        "\n",
        "stop_words = set(stopwords.words('english'))"
      ]
    },
    {
      "cell_type": "code",
      "source": [
        "from google.colab import drive\n",
        "drive.mount('/content/drive')"
      ],
      "metadata": {
        "colab": {
          "base_uri": "https://localhost:8080/"
        },
        "id": "iJZe4Ha0p7EJ",
        "outputId": "1dcc64d1-8035-428e-f25f-af0a86b9fe72"
      },
      "execution_count": 3,
      "outputs": [
        {
          "output_type": "stream",
          "name": "stdout",
          "text": [
            "Mounted at /content/drive\n"
          ]
        }
      ]
    },
    {
      "cell_type": "markdown",
      "source": [
        "# **Upload Data**"
      ],
      "metadata": {
        "id": "4LDU4WiwqLSd"
      }
    },
    {
      "cell_type": "code",
      "source": [
        "source1 = '/content/drive/My Drive/Datathon(SMUISD)/news_excerpts_parsed.xlsx'\n",
        "source2 = '/content/drive/My Drive/Datathon(SMUISD)/wikileaks_parsed.xlsx'\n",
        "\n",
        "news_excerpts = pd.read_excel(source1)\n",
        "wikileaks = pd.read_excel(source2)\n",
        "\n",
        "# Display the first few rows\n",
        "print(news_excerpts.head())\n",
        "print(wikileaks.head())"
      ],
      "metadata": {
        "colab": {
          "base_uri": "https://localhost:8080/"
        },
        "id": "0Z_aJSsVqXFQ",
        "outputId": "035ec4b6-2578-40c7-ec0e-bc95d5cfebc6"
      },
      "execution_count": 4,
      "outputs": [
        {
          "output_type": "stream",
          "name": "stdout",
          "text": [
            "                                                Link  \\\n",
            "0  https://edition.cnn.com/2023/09/29/business/st...   \n",
            "1  https://www.channelnewsasia.com/singapore/su-w...   \n",
            "2  https://edition.cnn.com/2023/05/22/tech/meta-f...   \n",
            "3  https://www.channelnewsasia.com/singapore/bill...   \n",
            "4  https://edition.cnn.com/2024/03/05/politics/li...   \n",
            "\n",
            "                                                Text  \n",
            "0  Starbucks violated federal labor law when it i...  \n",
            "1  The first suspect to plead guilty in Singapore...  \n",
            "2  Meta has been fined a record-breaking €1.2 bil...  \n",
            "3  SINGAPORE: A 45-year-old man linked to Singapo...  \n",
            "4  The Department of Education imposed a record $...  \n",
            "  PDF Path                                               Text\n",
            "0    1.pdf  Pristina Airport – Possible administrative irr...\n",
            "1    1.pdf  Investigative details\\n\\nIn his/her interviews...\n",
            "2   10.pdf  \"An interoffice memorandum providing an “outst...\n",
            "3   10.pdf  \"Allegation 2 & 3:\\n\\n(Specifically, three of ...\n",
            "4   10.pdf  \"When asked about this in interview, the Divis...\n"
          ]
        }
      ]
    },
    {
      "cell_type": "markdown",
      "source": [
        "# **Data Cleaning**"
      ],
      "metadata": {
        "id": "Aa272wq0sqN6"
      }
    },
    {
      "cell_type": "code",
      "source": [
        "## Combining the same pdf to the same text for wikileaks\n",
        "combined_wikileaks = wikileaks.groupby('PDF Path', as_index=False).agg({\n",
        "    'Text': ' '.join  # Concatenate text with a space\n",
        "})\n",
        "\n",
        "text_data1 = news_excerpts[\"Text\"]\n",
        "text_data2 = combined_wikileaks[\"Text\"]\n",
        "\n",
        "# Pre process the text\n",
        "def preprocess_text(text):\n",
        "    if pd.isna(text):  # Handle missing values\n",
        "        return \"\"\n",
        "    text = text.lower()  # Convert to lowercase\n",
        "    text = re.sub(r'\\n|\\r', ' ', text)  # Replace newline characters\n",
        "    text = re.sub(r'[^a-zA-Z\\s]', '', text)  # Remove special characters and numbers\n",
        "    text = ' '.join(word for word in word_tokenize(text) if word not in stop_words)  # Remove stopwords\n",
        "    return text\n",
        "# Create a new data frame for processed text data\n",
        "processed_text_data1 = pd.DataFrame()\n",
        "processed_text_data2 = pd.DataFrame()\n",
        "processed_text_data1['Text'] = text_data1\n",
        "processed_text_data2['Text'] = text_data2\n",
        "processed_text_data1['Text Processed'] = text_data1.apply(preprocess_text)\n",
        "processed_text_data2['Text Processed'] = text_data2.apply(preprocess_text)\n",
        "\n",
        "# Add Source Column to Identify Origin of the Text\n",
        "processed_text_data1['Source'] = 'Articles'\n",
        "processed_text_data2['Source'] = 'WikiLeaks'"
      ],
      "metadata": {
        "id": "7JGbb9KPsuXN"
      },
      "execution_count": 5,
      "outputs": []
    },
    {
      "cell_type": "markdown",
      "source": [
        "# **Data Processing**"
      ],
      "metadata": {
        "id": "P-UHo4rpumi0"
      }
    },
    {
      "cell_type": "markdown",
      "source": [
        "**1st Step: Predefined Keyword Classification**"
      ],
      "metadata": {
        "id": "NEXaULz3uwgx"
      }
    },
    {
      "cell_type": "code",
      "source": [
        "# Define Classification Logic\n",
        "economic_keywords = ['economic', 'money', 'trade', 'investment', 'cash', 'payment', 'transaction', 'funds', 'theft', 'robbery', 'embezzlement', 'asset', 'valuable', 'gold', 'jewellery', 'bank', 'fraud', 'scam', 'embezzle', 'extortion', 'ransom']\n",
        "violence_keywords = [\"injury\", \"death\", \"discrimination\", \"assault\", \"murder\", \"homicide\", \"kidnap\", \"arson\", \"terror\", \"vandalism\", \"trespassing\", \"drug\", \"illegal\", \"data\", \"breach\", \"cyber\"]\n",
        "\n",
        "def classify_crime(text):\n",
        "    # Check if any economic keyword exists in the text\n",
        "    if any(keyword in text for keyword in economic_keywords):\n",
        "        return 'Economic/Trade/Money-related'\n",
        "    elif any(keyword in text for keyword in violence_keywords):\n",
        "        return 'Non-money-related'\n",
        "    else:\n",
        "        return 'None'\n",
        "\n",
        "processed_text_data1['Crime_Type'] = processed_text_data1['Text Processed'].apply(classify_crime)\n",
        "processed_text_data2['Crime_Type'] = processed_text_data2['Text Processed'].apply(classify_crime)\n",
        "\n",
        "# Print the counts\n",
        "print(\"News\", processed_text_data1['Crime_Type'].value_counts())\n",
        "print(\"Wiki\", processed_text_data2['Crime_Type'].value_counts())\n",
        "print(processed_text_data1[['Text', 'Crime_Type']].head())\n",
        "print(processed_text_data2[['Text', 'Crime_Type']].head())"
      ],
      "metadata": {
        "id": "5uzMTewDuuSc",
        "colab": {
          "base_uri": "https://localhost:8080/"
        },
        "outputId": "afe740cc-9182-4c9b-cd3d-91d396cf4041"
      },
      "execution_count": 6,
      "outputs": [
        {
          "output_type": "stream",
          "name": "stdout",
          "text": [
            "News Crime_Type\n",
            "None                            937\n",
            "Economic/Trade/Money-related    406\n",
            "Non-money-related               166\n",
            "Name: count, dtype: int64\n",
            "Wiki Crime_Type\n",
            "Economic/Trade/Money-related    32\n",
            "None                            10\n",
            "Non-money-related                2\n",
            "Name: count, dtype: int64\n",
            "                                                Text  \\\n",
            "0  Starbucks violated federal labor law when it i...   \n",
            "1  The first suspect to plead guilty in Singapore...   \n",
            "2  Meta has been fined a record-breaking €1.2 bil...   \n",
            "3  SINGAPORE: A 45-year-old man linked to Singapo...   \n",
            "4  The Department of Education imposed a record $...   \n",
            "\n",
            "                     Crime_Type  \n",
            "0                          None  \n",
            "1  Economic/Trade/Money-related  \n",
            "2             Non-money-related  \n",
            "3  Economic/Trade/Money-related  \n",
            "4             Non-money-related  \n",
            "                                                Text  \\\n",
            "0  Pristina Airport – Possible administrative irr...   \n",
            "1  \"An interoffice memorandum providing an “outst...   \n",
            "2  \"Description\\n\\nThis is a Secret US National S...   \n",
            "3  \"Tokyo's Climate Change Officials to Continue ...   \n",
            "4  \"Description\\n\\nThis is a secret US National S...   \n",
            "\n",
            "                     Crime_Type  \n",
            "0  Economic/Trade/Money-related  \n",
            "1  Economic/Trade/Money-related  \n",
            "2  Economic/Trade/Money-related  \n",
            "3  Economic/Trade/Money-related  \n",
            "4  Economic/Trade/Money-related  \n"
          ]
        }
      ]
    },
    {
      "cell_type": "markdown",
      "source": [
        "**2nd Step: Extraction of Entities (Country)**\n",
        "\n",
        "Note: the text used to analyse is the unprocessed one as the library did not really work well with the processed one ;-;"
      ],
      "metadata": {
        "id": "T-yXJ2BEu5T7"
      }
    },
    {
      "cell_type": "code",
      "source": [
        "# Extracting Countries using spaCy and filtering with pycountry\n",
        "# Function to find a country by name, alpha codes, or demonym\n",
        "def find_country(entity):\n",
        "    entity_lower = entity.lower()\n",
        "\n",
        "    for country in pycountry.countries:\n",
        "        # Check official name, common name, alpha codes\n",
        "        if (\n",
        "            entity_lower == country.name.lower() or\n",
        "            entity_lower == getattr(country, 'official_name', '').lower() or\n",
        "            entity_lower in [country.alpha_2.lower(), country.alpha_3.lower()]\n",
        "        ):\n",
        "            return country.name\n",
        "\n",
        "        # Check demonyms (e.g., Indonesian → Indonesia)\n",
        "        if hasattr(country, 'demonym') and entity_lower == country.demonym.lower():\n",
        "            return country.name\n",
        "\n",
        "    # If no match, return None\n",
        "    return None\n",
        "\n",
        "# Enhanced function using spaCy and pycountry\n",
        "def extract_countries_spacy(text):\n",
        "    doc = nlp(text)\n",
        "    countries = set()\n",
        "\n",
        "    for ent in doc.ents:\n",
        "        if ent.label_ in ['GPE', 'NORP', 'LOC']:  # GPE, nationalities, or locations\n",
        "            country_name = find_country(ent.text.strip())\n",
        "            if country_name:\n",
        "                countries.add(country_name)\n",
        "\n",
        "    return ', '.join(sorted(countries)) if countries else 'None'\n",
        "\n",
        "# Apply country extraction\n",
        "processed_text_data1['Countries'] = processed_text_data1['Text'].apply(extract_countries_spacy)\n",
        "processed_text_data2['Countries'] = processed_text_data2['Text'].apply(extract_countries_spacy)\n",
        "\n",
        "# Display the results with extracted countries\n",
        "print(processed_text_data1[['Text', 'Crime_Type', 'Countries']].head())\n",
        "print(processed_text_data2[['Text', 'Crime_Type', 'Countries']].head())"
      ],
      "metadata": {
        "id": "MYrX-cOEu_bk",
        "colab": {
          "base_uri": "https://localhost:8080/"
        },
        "outputId": "a5794928-e59c-444c-b895-dca6383e4b1b"
      },
      "execution_count": 7,
      "outputs": [
        {
          "output_type": "stream",
          "name": "stdout",
          "text": [
            "                                                Text  \\\n",
            "0  Starbucks violated federal labor law when it i...   \n",
            "1  The first suspect to plead guilty in Singapore...   \n",
            "2  Meta has been fined a record-breaking €1.2 bil...   \n",
            "3  SINGAPORE: A 45-year-old man linked to Singapo...   \n",
            "4  The Department of Education imposed a record $...   \n",
            "\n",
            "                     Crime_Type  Countries  \n",
            "0                          None       None  \n",
            "1  Economic/Trade/Money-related  Singapore  \n",
            "2             Non-money-related       None  \n",
            "3  Economic/Trade/Money-related  Singapore  \n",
            "4             Non-money-related       None  \n",
            "                                                Text  \\\n",
            "0  Pristina Airport – Possible administrative irr...   \n",
            "1  \"An interoffice memorandum providing an “outst...   \n",
            "2  \"Description\\n\\nThis is a Secret US National S...   \n",
            "3  \"Tokyo's Climate Change Officials to Continue ...   \n",
            "4  \"Description\\n\\nThis is a secret US National S...   \n",
            "\n",
            "                     Crime_Type                              Countries  \n",
            "0  Economic/Trade/Money-related                                   None  \n",
            "1  Economic/Trade/Money-related                                   None  \n",
            "2  Economic/Trade/Money-related                                  Japan  \n",
            "3  Economic/Trade/Money-related                           China, India  \n",
            "4  Economic/Trade/Money-related  Australia, Canada, Japan, New Zealand  \n"
          ]
        }
      ]
    },
    {
      "cell_type": "code",
      "source": [
        "# Dictionary of capital cities mapped to countries\n",
        "capital_to_country = {\n",
        "    'vienna': 'Austria',\n",
        "    'paris': 'France',\n",
        "    'berlin': 'Germany',\n",
        "    'washington': 'United States',\n",
        "    'london': 'United Kingdom',\n",
        "    # Add more capitals as needed\n",
        "}\n",
        "\n",
        "# Dictionary of country abbreviations mapped to full country names\n",
        "abbreviation_to_country = {\n",
        "    'us': 'United States',\n",
        "    'uk': 'United Kingdom',\n",
        "    'de': 'Germany',\n",
        "    'fr': 'France',\n",
        "    # Add more abbreviations as needed\n",
        "}\n",
        "\n",
        "# Enhanced function to find country, considering capitals and abbreviations\n",
        "def find_country(entity):\n",
        "    entity_lower = entity.lower()\n",
        "\n",
        "    # First check if the entity is a known capital city\n",
        "    if entity_lower in capital_to_country:\n",
        "        return capital_to_country[entity_lower]\n",
        "\n",
        "    # Then check if the entity is a known country abbreviation\n",
        "    if entity_lower in abbreviation_to_country:\n",
        "        return abbreviation_to_country[entity_lower]\n",
        "\n",
        "    # Default check for pycountry countries\n",
        "    for country in pycountry.countries:\n",
        "        if (\n",
        "            entity_lower == country.name.lower() or\n",
        "            entity_lower == getattr(country, 'official_name', '').lower() or\n",
        "            entity_lower in [country.alpha_2.lower(), country.alpha_3.lower()]\n",
        "        ):\n",
        "            return country.name\n",
        "\n",
        "        # Check demonyms (e.g., Indonesian → Indonesia)\n",
        "        if hasattr(country, 'demonym') and entity_lower == country.demonym.lower():\n",
        "            return country.name\n",
        "\n",
        "    # If no match, return None\n",
        "    return None\n",
        "\n",
        "# Enhanced function using spaCy and pycountry\n",
        "def extract_countries_spacy(text):\n",
        "    doc = nlp(text)\n",
        "    countries = set()\n",
        "\n",
        "    for ent in doc.ents:\n",
        "        if ent.label_ in ['GPE', 'NORP', 'LOC']:  # GPE, nationalities, or locations\n",
        "            country_name = find_country(ent.text.strip())\n",
        "            if country_name:\n",
        "                countries.add(country_name)\n",
        "\n",
        "    return ', '.join(sorted(countries)) if countries else 'None'\n",
        "\n",
        "# Apply country extraction\n",
        "processed_text_data1['Countries'] = processed_text_data1['Text'].apply(extract_countries_spacy)\n",
        "processed_text_data2['Countries'] = processed_text_data2['Text'].apply(extract_countries_spacy)\n",
        "\n",
        "# Display the results with extracted countries\n",
        "print(processed_text_data1[['Text', 'Crime_Type', 'Countries']].head())\n",
        "print(processed_text_data2[['Text', 'Crime_Type', 'Countries']].head())\n"
      ],
      "metadata": {
        "id": "i3X7vGkgQwu7",
        "colab": {
          "base_uri": "https://localhost:8080/",
          "height": 391
        },
        "outputId": "f5ede1b9-8fad-428e-93cf-72a6d047ebed"
      },
      "execution_count": 8,
      "outputs": [
        {
          "output_type": "error",
          "ename": "KeyboardInterrupt",
          "evalue": "",
          "traceback": [
            "\u001b[0;31m---------------------------------------------------------------------------\u001b[0m",
            "\u001b[0;31mKeyboardInterrupt\u001b[0m                         Traceback (most recent call last)",
            "\u001b[0;32m<ipython-input-8-33746ffb53c9>\u001b[0m in \u001b[0;36m<cell line: 0>\u001b[0;34m()\u001b[0m\n\u001b[1;32m     60\u001b[0m \u001b[0;34m\u001b[0m\u001b[0m\n\u001b[1;32m     61\u001b[0m \u001b[0;31m# Apply country extraction\u001b[0m\u001b[0;34m\u001b[0m\u001b[0;34m\u001b[0m\u001b[0m\n\u001b[0;32m---> 62\u001b[0;31m \u001b[0mprocessed_text_data1\u001b[0m\u001b[0;34m[\u001b[0m\u001b[0;34m'Countries'\u001b[0m\u001b[0;34m]\u001b[0m \u001b[0;34m=\u001b[0m \u001b[0mprocessed_text_data1\u001b[0m\u001b[0;34m[\u001b[0m\u001b[0;34m'Text'\u001b[0m\u001b[0;34m]\u001b[0m\u001b[0;34m.\u001b[0m\u001b[0mapply\u001b[0m\u001b[0;34m(\u001b[0m\u001b[0mextract_countries_spacy\u001b[0m\u001b[0;34m)\u001b[0m\u001b[0;34m\u001b[0m\u001b[0;34m\u001b[0m\u001b[0m\n\u001b[0m\u001b[1;32m     63\u001b[0m \u001b[0mprocessed_text_data2\u001b[0m\u001b[0;34m[\u001b[0m\u001b[0;34m'Countries'\u001b[0m\u001b[0;34m]\u001b[0m \u001b[0;34m=\u001b[0m \u001b[0mprocessed_text_data2\u001b[0m\u001b[0;34m[\u001b[0m\u001b[0;34m'Text'\u001b[0m\u001b[0;34m]\u001b[0m\u001b[0;34m.\u001b[0m\u001b[0mapply\u001b[0m\u001b[0;34m(\u001b[0m\u001b[0mextract_countries_spacy\u001b[0m\u001b[0;34m)\u001b[0m\u001b[0;34m\u001b[0m\u001b[0;34m\u001b[0m\u001b[0m\n\u001b[1;32m     64\u001b[0m \u001b[0;34m\u001b[0m\u001b[0m\n",
            "\u001b[0;32m/usr/local/lib/python3.11/dist-packages/pandas/core/series.py\u001b[0m in \u001b[0;36mapply\u001b[0;34m(self, func, convert_dtype, args, by_row, **kwargs)\u001b[0m\n\u001b[1;32m   4922\u001b[0m             \u001b[0margs\u001b[0m\u001b[0;34m=\u001b[0m\u001b[0margs\u001b[0m\u001b[0;34m,\u001b[0m\u001b[0;34m\u001b[0m\u001b[0;34m\u001b[0m\u001b[0m\n\u001b[1;32m   4923\u001b[0m             \u001b[0mkwargs\u001b[0m\u001b[0;34m=\u001b[0m\u001b[0mkwargs\u001b[0m\u001b[0;34m,\u001b[0m\u001b[0;34m\u001b[0m\u001b[0;34m\u001b[0m\u001b[0m\n\u001b[0;32m-> 4924\u001b[0;31m         ).apply()\n\u001b[0m\u001b[1;32m   4925\u001b[0m \u001b[0;34m\u001b[0m\u001b[0m\n\u001b[1;32m   4926\u001b[0m     def _reindex_indexer(\n",
            "\u001b[0;32m/usr/local/lib/python3.11/dist-packages/pandas/core/apply.py\u001b[0m in \u001b[0;36mapply\u001b[0;34m(self)\u001b[0m\n\u001b[1;32m   1425\u001b[0m \u001b[0;34m\u001b[0m\u001b[0m\n\u001b[1;32m   1426\u001b[0m         \u001b[0;31m# self.func is Callable\u001b[0m\u001b[0;34m\u001b[0m\u001b[0;34m\u001b[0m\u001b[0m\n\u001b[0;32m-> 1427\u001b[0;31m         \u001b[0;32mreturn\u001b[0m \u001b[0mself\u001b[0m\u001b[0;34m.\u001b[0m\u001b[0mapply_standard\u001b[0m\u001b[0;34m(\u001b[0m\u001b[0;34m)\u001b[0m\u001b[0;34m\u001b[0m\u001b[0;34m\u001b[0m\u001b[0m\n\u001b[0m\u001b[1;32m   1428\u001b[0m \u001b[0;34m\u001b[0m\u001b[0m\n\u001b[1;32m   1429\u001b[0m     \u001b[0;32mdef\u001b[0m \u001b[0magg\u001b[0m\u001b[0;34m(\u001b[0m\u001b[0mself\u001b[0m\u001b[0;34m)\u001b[0m\u001b[0;34m:\u001b[0m\u001b[0;34m\u001b[0m\u001b[0;34m\u001b[0m\u001b[0m\n",
            "\u001b[0;32m/usr/local/lib/python3.11/dist-packages/pandas/core/apply.py\u001b[0m in \u001b[0;36mapply_standard\u001b[0;34m(self)\u001b[0m\n\u001b[1;32m   1505\u001b[0m         \u001b[0;31m#  Categorical (GH51645).\u001b[0m\u001b[0;34m\u001b[0m\u001b[0;34m\u001b[0m\u001b[0m\n\u001b[1;32m   1506\u001b[0m         \u001b[0maction\u001b[0m \u001b[0;34m=\u001b[0m \u001b[0;34m\"ignore\"\u001b[0m \u001b[0;32mif\u001b[0m \u001b[0misinstance\u001b[0m\u001b[0;34m(\u001b[0m\u001b[0mobj\u001b[0m\u001b[0;34m.\u001b[0m\u001b[0mdtype\u001b[0m\u001b[0;34m,\u001b[0m \u001b[0mCategoricalDtype\u001b[0m\u001b[0;34m)\u001b[0m \u001b[0;32melse\u001b[0m \u001b[0;32mNone\u001b[0m\u001b[0;34m\u001b[0m\u001b[0;34m\u001b[0m\u001b[0m\n\u001b[0;32m-> 1507\u001b[0;31m         mapped = obj._map_values(\n\u001b[0m\u001b[1;32m   1508\u001b[0m             \u001b[0mmapper\u001b[0m\u001b[0;34m=\u001b[0m\u001b[0mcurried\u001b[0m\u001b[0;34m,\u001b[0m \u001b[0mna_action\u001b[0m\u001b[0;34m=\u001b[0m\u001b[0maction\u001b[0m\u001b[0;34m,\u001b[0m \u001b[0mconvert\u001b[0m\u001b[0;34m=\u001b[0m\u001b[0mself\u001b[0m\u001b[0;34m.\u001b[0m\u001b[0mconvert_dtype\u001b[0m\u001b[0;34m\u001b[0m\u001b[0;34m\u001b[0m\u001b[0m\n\u001b[1;32m   1509\u001b[0m         )\n",
            "\u001b[0;32m/usr/local/lib/python3.11/dist-packages/pandas/core/base.py\u001b[0m in \u001b[0;36m_map_values\u001b[0;34m(self, mapper, na_action, convert)\u001b[0m\n\u001b[1;32m    919\u001b[0m             \u001b[0;32mreturn\u001b[0m \u001b[0marr\u001b[0m\u001b[0;34m.\u001b[0m\u001b[0mmap\u001b[0m\u001b[0;34m(\u001b[0m\u001b[0mmapper\u001b[0m\u001b[0;34m,\u001b[0m \u001b[0mna_action\u001b[0m\u001b[0;34m=\u001b[0m\u001b[0mna_action\u001b[0m\u001b[0;34m)\u001b[0m\u001b[0;34m\u001b[0m\u001b[0;34m\u001b[0m\u001b[0m\n\u001b[1;32m    920\u001b[0m \u001b[0;34m\u001b[0m\u001b[0m\n\u001b[0;32m--> 921\u001b[0;31m         \u001b[0;32mreturn\u001b[0m \u001b[0malgorithms\u001b[0m\u001b[0;34m.\u001b[0m\u001b[0mmap_array\u001b[0m\u001b[0;34m(\u001b[0m\u001b[0marr\u001b[0m\u001b[0;34m,\u001b[0m \u001b[0mmapper\u001b[0m\u001b[0;34m,\u001b[0m \u001b[0mna_action\u001b[0m\u001b[0;34m=\u001b[0m\u001b[0mna_action\u001b[0m\u001b[0;34m,\u001b[0m \u001b[0mconvert\u001b[0m\u001b[0;34m=\u001b[0m\u001b[0mconvert\u001b[0m\u001b[0;34m)\u001b[0m\u001b[0;34m\u001b[0m\u001b[0;34m\u001b[0m\u001b[0m\n\u001b[0m\u001b[1;32m    922\u001b[0m \u001b[0;34m\u001b[0m\u001b[0m\n\u001b[1;32m    923\u001b[0m     \u001b[0;34m@\u001b[0m\u001b[0mfinal\u001b[0m\u001b[0;34m\u001b[0m\u001b[0;34m\u001b[0m\u001b[0m\n",
            "\u001b[0;32m/usr/local/lib/python3.11/dist-packages/pandas/core/algorithms.py\u001b[0m in \u001b[0;36mmap_array\u001b[0;34m(arr, mapper, na_action, convert)\u001b[0m\n\u001b[1;32m   1741\u001b[0m     \u001b[0mvalues\u001b[0m \u001b[0;34m=\u001b[0m \u001b[0marr\u001b[0m\u001b[0;34m.\u001b[0m\u001b[0mastype\u001b[0m\u001b[0;34m(\u001b[0m\u001b[0mobject\u001b[0m\u001b[0;34m,\u001b[0m \u001b[0mcopy\u001b[0m\u001b[0;34m=\u001b[0m\u001b[0;32mFalse\u001b[0m\u001b[0;34m)\u001b[0m\u001b[0;34m\u001b[0m\u001b[0;34m\u001b[0m\u001b[0m\n\u001b[1;32m   1742\u001b[0m     \u001b[0;32mif\u001b[0m \u001b[0mna_action\u001b[0m \u001b[0;32mis\u001b[0m \u001b[0;32mNone\u001b[0m\u001b[0;34m:\u001b[0m\u001b[0;34m\u001b[0m\u001b[0;34m\u001b[0m\u001b[0m\n\u001b[0;32m-> 1743\u001b[0;31m         \u001b[0;32mreturn\u001b[0m \u001b[0mlib\u001b[0m\u001b[0;34m.\u001b[0m\u001b[0mmap_infer\u001b[0m\u001b[0;34m(\u001b[0m\u001b[0mvalues\u001b[0m\u001b[0;34m,\u001b[0m \u001b[0mmapper\u001b[0m\u001b[0;34m,\u001b[0m \u001b[0mconvert\u001b[0m\u001b[0;34m=\u001b[0m\u001b[0mconvert\u001b[0m\u001b[0;34m)\u001b[0m\u001b[0;34m\u001b[0m\u001b[0;34m\u001b[0m\u001b[0m\n\u001b[0m\u001b[1;32m   1744\u001b[0m     \u001b[0;32melse\u001b[0m\u001b[0;34m:\u001b[0m\u001b[0;34m\u001b[0m\u001b[0;34m\u001b[0m\u001b[0m\n\u001b[1;32m   1745\u001b[0m         return lib.map_infer_mask(\n",
            "\u001b[0;32mlib.pyx\u001b[0m in \u001b[0;36mpandas._libs.lib.map_infer\u001b[0;34m()\u001b[0m\n",
            "\u001b[0;32m<ipython-input-8-33746ffb53c9>\u001b[0m in \u001b[0;36mextract_countries_spacy\u001b[0;34m(text)\u001b[0m\n\u001b[1;32m     53\u001b[0m     \u001b[0;32mfor\u001b[0m \u001b[0ment\u001b[0m \u001b[0;32min\u001b[0m \u001b[0mdoc\u001b[0m\u001b[0;34m.\u001b[0m\u001b[0ments\u001b[0m\u001b[0;34m:\u001b[0m\u001b[0;34m\u001b[0m\u001b[0;34m\u001b[0m\u001b[0m\n\u001b[1;32m     54\u001b[0m         \u001b[0;32mif\u001b[0m \u001b[0ment\u001b[0m\u001b[0;34m.\u001b[0m\u001b[0mlabel_\u001b[0m \u001b[0;32min\u001b[0m \u001b[0;34m[\u001b[0m\u001b[0;34m'GPE'\u001b[0m\u001b[0;34m,\u001b[0m \u001b[0;34m'NORP'\u001b[0m\u001b[0;34m,\u001b[0m \u001b[0;34m'LOC'\u001b[0m\u001b[0;34m]\u001b[0m\u001b[0;34m:\u001b[0m  \u001b[0;31m# GPE, nationalities, or locations\u001b[0m\u001b[0;34m\u001b[0m\u001b[0;34m\u001b[0m\u001b[0m\n\u001b[0;32m---> 55\u001b[0;31m             \u001b[0mcountry_name\u001b[0m \u001b[0;34m=\u001b[0m \u001b[0mfind_country\u001b[0m\u001b[0;34m(\u001b[0m\u001b[0ment\u001b[0m\u001b[0;34m.\u001b[0m\u001b[0mtext\u001b[0m\u001b[0;34m.\u001b[0m\u001b[0mstrip\u001b[0m\u001b[0;34m(\u001b[0m\u001b[0;34m)\u001b[0m\u001b[0;34m)\u001b[0m\u001b[0;34m\u001b[0m\u001b[0;34m\u001b[0m\u001b[0m\n\u001b[0m\u001b[1;32m     56\u001b[0m             \u001b[0;32mif\u001b[0m \u001b[0mcountry_name\u001b[0m\u001b[0;34m:\u001b[0m\u001b[0;34m\u001b[0m\u001b[0;34m\u001b[0m\u001b[0m\n\u001b[1;32m     57\u001b[0m                 \u001b[0mcountries\u001b[0m\u001b[0;34m.\u001b[0m\u001b[0madd\u001b[0m\u001b[0;34m(\u001b[0m\u001b[0mcountry_name\u001b[0m\u001b[0;34m)\u001b[0m\u001b[0;34m\u001b[0m\u001b[0;34m\u001b[0m\u001b[0m\n",
            "\u001b[0;32m<ipython-input-8-33746ffb53c9>\u001b[0m in \u001b[0;36mfind_country\u001b[0;34m(entity)\u001b[0m\n\u001b[1;32m     33\u001b[0m     \u001b[0;32mfor\u001b[0m \u001b[0mcountry\u001b[0m \u001b[0;32min\u001b[0m \u001b[0mpycountry\u001b[0m\u001b[0;34m.\u001b[0m\u001b[0mcountries\u001b[0m\u001b[0;34m:\u001b[0m\u001b[0;34m\u001b[0m\u001b[0;34m\u001b[0m\u001b[0m\n\u001b[1;32m     34\u001b[0m         if (\n\u001b[0;32m---> 35\u001b[0;31m             \u001b[0mentity_lower\u001b[0m \u001b[0;34m==\u001b[0m \u001b[0mcountry\u001b[0m\u001b[0;34m.\u001b[0m\u001b[0mname\u001b[0m\u001b[0;34m.\u001b[0m\u001b[0mlower\u001b[0m\u001b[0;34m(\u001b[0m\u001b[0;34m)\u001b[0m \u001b[0;32mor\u001b[0m\u001b[0;34m\u001b[0m\u001b[0;34m\u001b[0m\u001b[0m\n\u001b[0m\u001b[1;32m     36\u001b[0m             \u001b[0mentity_lower\u001b[0m \u001b[0;34m==\u001b[0m \u001b[0mgetattr\u001b[0m\u001b[0;34m(\u001b[0m\u001b[0mcountry\u001b[0m\u001b[0;34m,\u001b[0m \u001b[0;34m'official_name'\u001b[0m\u001b[0;34m,\u001b[0m \u001b[0;34m''\u001b[0m\u001b[0;34m)\u001b[0m\u001b[0;34m.\u001b[0m\u001b[0mlower\u001b[0m\u001b[0;34m(\u001b[0m\u001b[0;34m)\u001b[0m \u001b[0;32mor\u001b[0m\u001b[0;34m\u001b[0m\u001b[0;34m\u001b[0m\u001b[0m\n\u001b[1;32m     37\u001b[0m             \u001b[0mentity_lower\u001b[0m \u001b[0;32min\u001b[0m \u001b[0;34m[\u001b[0m\u001b[0mcountry\u001b[0m\u001b[0;34m.\u001b[0m\u001b[0malpha_2\u001b[0m\u001b[0;34m.\u001b[0m\u001b[0mlower\u001b[0m\u001b[0;34m(\u001b[0m\u001b[0;34m)\u001b[0m\u001b[0;34m,\u001b[0m \u001b[0mcountry\u001b[0m\u001b[0;34m.\u001b[0m\u001b[0malpha_3\u001b[0m\u001b[0;34m.\u001b[0m\u001b[0mlower\u001b[0m\u001b[0;34m(\u001b[0m\u001b[0;34m)\u001b[0m\u001b[0;34m]\u001b[0m\u001b[0;34m\u001b[0m\u001b[0;34m\u001b[0m\u001b[0m\n",
            "\u001b[0;31mKeyboardInterrupt\u001b[0m: "
          ]
        }
      ]
    },
    {
      "cell_type": "markdown",
      "source": [
        "**3rd Step: LinearSVC using Labelled Data to Predict 'None' Types**"
      ],
      "metadata": {
        "id": "NbywYflGO9-B"
      }
    },
    {
      "cell_type": "code",
      "source": [
        "# Combine both processed datasets\n",
        "combined_data = pd.concat([\n",
        "    processed_text_data1[['Source', 'Text Processed', 'Text', 'Countries', 'Crime_Type']],\n",
        "    processed_text_data2[['Source', 'Text Processed', 'Text', 'Countries', 'Crime_Type']]\n",
        "])\n",
        "\n",
        "# Feature Extraction with TfidfVectorizer\n",
        "vectorizer = TfidfVectorizer(stop_words='english', max_features=5000)\n",
        "\n",
        "# Separate training data (excluding \"None\") and data with \"None\" for later prediction\n",
        "train_data = combined_data[combined_data['Crime_Type'] != 'None']\n",
        "none_data = combined_data[combined_data['Crime_Type'] == 'None']\n",
        "\n",
        "# **Step 1: Balance the Dataset by Undersampling**\n",
        "# Find the smallest class count\n",
        "min_class_count = train_data['Crime_Type'].value_counts().min()\n",
        "\n",
        "# Randomly sample an equal number of rows from each class\n",
        "balanced_data = train_data.groupby('Crime_Type').apply(\n",
        "    lambda x: x.sample(min_class_count, random_state=42)\n",
        ").reset_index(drop=True)\n",
        "\n",
        "# Check class distribution\n",
        "print(\"Balanced class distribution:\")\n",
        "print(balanced_data['Crime_Type'].value_counts())\n",
        "\n",
        "# **Step 2: Train the Model**\n",
        "# Split the balanced data into training and test sets\n",
        "X_train, X_test, y_train, y_test = train_test_split(\n",
        "    balanced_data['Text Processed'], balanced_data['Crime_Type'],\n",
        "    test_size=0.2, random_state=42\n",
        ")\n",
        "\n",
        "# Transform text data into TF-IDF features\n",
        "X_train_vec = vectorizer.fit_transform(X_train)\n",
        "X_test_vec = vectorizer.transform(X_test)\n",
        "\n",
        "# Define a function to tune the model\n",
        "def tune_model(X, y):\n",
        "    param_grid = {'C': [0.1, 1, 10], 'max_iter': [1000, 2000, 3000]}\n",
        "    svc = LinearSVC(random_state=42)\n",
        "    grid_search = GridSearchCV(estimator=svc, param_grid=param_grid, cv=3, verbose=2, n_jobs=-1)\n",
        "    grid_search.fit(X, y)\n",
        "    print(f\"Best parameters found: {grid_search.best_params_}\")\n",
        "    return grid_search.best_estimator_\n",
        "\n",
        "# Train the model with GridSearchCV\n",
        "model = tune_model(X_train_vec, y_train)\n",
        "\n",
        "# Evaluate on test data\n",
        "y_pred = model.predict(X_test_vec)\n",
        "print(\"Classification report on test data:\")\n",
        "print(classification_report(y_test, y_pred))\n",
        "\n",
        "# **Step 3: Predict Crime Types for 'None' Data**\n",
        "# Transform 'None' data using the same vectorizer\n",
        "none_data_features = vectorizer.transform(none_data['Text Processed'])\n",
        "\n",
        "# Predict labels for 'None' data\n",
        "predicted_labels = model.predict(none_data_features)\n",
        "\n",
        "# Assign predictions back to the original none_data\n",
        "none_data.loc[:, 'Crime_Type'] = predicted_labels\n",
        "\n",
        "# **Step 4: Update Combined Dataset with Predictions**\n",
        "for index, none_row in none_data.iterrows():\n",
        "    # Match by 'Text Processed' to update original combined data\n",
        "    matching_rows = combined_data[combined_data['Text Processed'] == none_row['Text Processed']]\n",
        "    if not matching_rows.empty:\n",
        "        combined_index = matching_rows.index[0]\n",
        "        combined_data.at[combined_index, 'Crime_Type'] = none_row['Crime_Type']\n",
        "\n",
        "# Check the updated Crime_Type counts\n",
        "print(\"Updated class distribution in the combined dataset:\")\n",
        "print(combined_data['Crime_Type'].value_counts())"
      ],
      "metadata": {
        "colab": {
          "base_uri": "https://localhost:8080/"
        },
        "id": "sG2EsB5rPRsP",
        "outputId": "78d5e688-2d6b-4895-faef-4f116c3b446b"
      },
      "execution_count": 9,
      "outputs": [
        {
          "output_type": "stream",
          "name": "stdout",
          "text": [
            "Balanced class distribution:\n",
            "Crime_Type\n",
            "Economic/Trade/Money-related    168\n",
            "Non-money-related               168\n",
            "Name: count, dtype: int64\n",
            "Fitting 3 folds for each of 9 candidates, totalling 27 fits\n"
          ]
        },
        {
          "output_type": "stream",
          "name": "stderr",
          "text": [
            "<ipython-input-9-40af28f2da55>:19: DeprecationWarning: DataFrameGroupBy.apply operated on the grouping columns. This behavior is deprecated, and in a future version of pandas the grouping columns will be excluded from the operation. Either pass `include_groups=False` to exclude the groupings or explicitly select the grouping columns after groupby to silence this warning.\n",
            "  balanced_data = train_data.groupby('Crime_Type').apply(\n"
          ]
        },
        {
          "output_type": "stream",
          "name": "stdout",
          "text": [
            "Best parameters found: {'C': 10, 'max_iter': 1000}\n",
            "Classification report on test data:\n",
            "                              precision    recall  f1-score   support\n",
            "\n",
            "Economic/Trade/Money-related       0.90      0.76      0.82        37\n",
            "           Non-money-related       0.76      0.90      0.82        31\n",
            "\n",
            "                    accuracy                           0.82        68\n",
            "                   macro avg       0.83      0.83      0.82        68\n",
            "                weighted avg       0.84      0.82      0.82        68\n",
            "\n",
            "Updated class distribution in the combined dataset:\n",
            "Crime_Type\n",
            "Non-money-related               802\n",
            "Economic/Trade/Money-related    751\n",
            "Name: count, dtype: int64\n"
          ]
        }
      ]
    },
    {
      "cell_type": "markdown",
      "source": [
        "**Method 2: NLP using spaCy**"
      ],
      "metadata": {
        "id": "evMivEjjuzur"
      }
    },
    {
      "cell_type": "code",
      "source": [
        "nlp = spacy.load(\"en_core_web_sm\")"
      ],
      "metadata": {
        "id": "rzSNR5oeLwvz"
      },
      "execution_count": null,
      "outputs": []
    },
    {
      "cell_type": "code",
      "source": [
        "from google.colab import drive\n",
        "drive.mount('/content/drive')"
      ],
      "metadata": {
        "id": "i39MyuGAL0bd"
      },
      "execution_count": null,
      "outputs": []
    },
    {
      "cell_type": "code",
      "source": [
        "file_path = '/content/drive/My Drive/Datathon(SMUISD)/news_excerpts_parsed.xlsx'\n",
        "\n",
        "df = pd.read_excel(file_path)\n",
        "\n",
        "# Display the first few rows\n",
        "print(df.head())"
      ],
      "metadata": {
        "id": "UeO9sQgpMFSY"
      },
      "execution_count": null,
      "outputs": []
    },
    {
      "cell_type": "code",
      "source": [
        "# Define crime-related keywords for filtering specific issues\n",
        "non_money_crime_keywords = [\"assault\", \"murder\", \"terrorism\", \"kidnap\", \"homicide\",\n",
        "                            \"illegal\", \"threat\", \"safety\", \"terror\", \"arson\", \"vandalism\",\n",
        "                            \"trespassing\", \"drug\", \"data\", \"breach\", \"personal data\", \"data protection\", \"cyber\"]\n",
        "\n",
        "money_crime_keywords = [\"money\", \"cash\", \"payment\", \"transaction\", \"funds\", \"theft\", \"launder\", \"laundering\",\n",
        "                        \"robbery\", \"embezzlement\",\"asset\", \"valuable\", \"gold\", \"jewelry\", \"bank\",\n",
        "                        \"fraud\", \"scam\", \"embezzle\", \"extortion\"]\n",
        "\n",
        "# Process each row in the 'Text' column\n",
        "results = []\n",
        "for text in df[\"Text\"]:\n",
        "    if pd.notna(text):  # Ensure text is not NaN\n",
        "        doc = nlp(text)  # Process the text with SpaCy\n",
        "\n",
        "        # Extract only GPE and NORP entities\n",
        "        entities = [(ent.text, ent.label_) for ent in doc.ents if ent.label_ in [\"GPE\", \"NORP\"]]\n",
        "\n",
        "        # Extract potential issues/crimes by filtering verbs/nouns related to crime\n",
        "        non_money_crime = [\n",
        "            token.text for token in doc\n",
        "            if token.pos_ in [\"VERB\", \"NOUN\"] and\n",
        "               any(keyword in token.text.lower() for keyword in non_money_crime_keywords)\n",
        "        ]\n",
        "\n",
        "        money_crime = [\n",
        "            token.text for token in doc\n",
        "            if token.pos_ in [\"VERB\", \"NOUN\"] and\n",
        "               any(keyword in token.text.lower() for keyword in money_crime_keywords)\n",
        "        ]\n",
        "\n",
        "        # Append the results for each text entry\n",
        "        results.append({\"Text\": text, \"Entities\": entities, \"Non Money Crime\": non_money_crime, \"Money Crime\": money_crime})\n",
        "\n",
        "# Convert results to a DataFrame\n",
        "results_df = pd.DataFrame(results)\n",
        "\n",
        "# Save to a new Excel file\n",
        "output_file = \"analyzed_results_specific.xlsx\"\n",
        "results_df.to_excel(output_file, index=False)\n",
        "print(f\"Analysis complete. Results saved to {output_file}.\")\n"
      ],
      "metadata": {
        "id": "Ak72iXgwOpiY"
      },
      "execution_count": null,
      "outputs": []
    },
    {
      "cell_type": "markdown",
      "source": [
        "**Sentiment Analysis**"
      ],
      "metadata": {
        "id": "Zyf9LCGmvAAR"
      }
    },
    {
      "cell_type": "code",
      "source": [
        "#analyse sentiment using VADER on cleaned data\n",
        "\n",
        "sia = SentimentIntensityAnalyzer()\n",
        "\n",
        "#analyse_sentiment function\n",
        "def analyse_sentiment(text):\n",
        "  #handles empty strings by assignining them as neutral\n",
        "  if not text or text.strip() == \"\":\n",
        "    return {\"Positive\":0.0, \"Neutral\":1.0, \"Negative\":0.0, \"Compound\":0.0, \"Sentiment\": \"Neutral\"}\n",
        "  scores = sia.polarity_scores(text)\n",
        "  #extracts overall sentiment score\n",
        "  compound = scores['compound']\n",
        "  if compound >= 0.05:\n",
        "    sentiment = \"Positive\"\n",
        "  elif compound <= -0.05:\n",
        "    sentiment = \"Negative\"\n",
        "  else:\n",
        "    sentiment = \"Neutral\"\n",
        "  #classifies sentiment based on above threshold\n",
        "  scores[\"Sentiment\"] = sentiment\n",
        "  return scores\n",
        "\n",
        "#applying sentiment analysis on news excerpts\n",
        "#processed_text_data1[['Positive', 'Neutral', 'Negative', 'Compound', 'Sentiment']] = processed_text_data1['Text Processed'].apply(\n",
        "  #lambda x: pd.Series(analyse_sentiment(x)))\n",
        "#applying sentiment analysis on wikileak excerpts\n",
        "#processed_text_data2[['Positive', 'Neutral', 'Negative', 'Compound', 'Sentiment']] = processed_text_data2['Text Processed'].apply(\n",
        "  #lambda x: pd.Series(analyse_sentiment(x)))\n",
        "\n",
        "# Apply on combined data\n",
        "combined_data[['Positive', 'Neutral', 'Negative', 'Compound', 'Sentiment']] = combined_data['Text Processed'].apply(\n",
        "  lambda x: pd.Series(analyse_sentiment(x)))\n",
        "\n",
        "print(combined_data.head())"
      ],
      "metadata": {
        "id": "1u9E0EM_vD3l",
        "colab": {
          "base_uri": "https://localhost:8080/"
        },
        "outputId": "d1f4a6d9-1ab5-4dd3-ab53-3688e7f37847"
      },
      "execution_count": 10,
      "outputs": [
        {
          "output_type": "stream",
          "name": "stdout",
          "text": [
            "     Source                                     Text Processed  \\\n",
            "0  Articles  starbucks violated federal labor law increased...   \n",
            "1  Articles  first suspect plead guilty singapores largest ...   \n",
            "2  Articles  meta fined recordbreaking billion billion euro...   \n",
            "3  Articles  singapore yearold man linked singapores larges...   \n",
            "4  Articles  department education imposed record million fi...   \n",
            "\n",
            "                                                Text  Countries  \\\n",
            "0  Starbucks violated federal labor law when it i...       None   \n",
            "1  The first suspect to plead guilty in Singapore...  Singapore   \n",
            "2  Meta has been fined a record-breaking €1.2 bil...       None   \n",
            "3  SINGAPORE: A 45-year-old man linked to Singapo...  Singapore   \n",
            "4  The Department of Education imposed a record $...       None   \n",
            "\n",
            "                     Crime_Type  Positive  Neutral  Negative  Compound  \\\n",
            "0             Non-money-related     0.149    0.720     0.130   -0.3612   \n",
            "1  Economic/Trade/Money-related     0.254    0.681     0.066   -0.9442   \n",
            "2             Non-money-related     0.061    0.848     0.091    0.2263   \n",
            "3  Economic/Trade/Money-related     0.239    0.615     0.147   -0.7650   \n",
            "4             Non-money-related     0.254    0.491     0.255   -0.4404   \n",
            "\n",
            "  Sentiment  \n",
            "0  Negative  \n",
            "1  Negative  \n",
            "2  Positive  \n",
            "3  Negative  \n",
            "4  Negative  \n"
          ]
        }
      ]
    },
    {
      "cell_type": "markdown",
      "source": [
        "# **Analysis of Data**"
      ],
      "metadata": {
        "id": "oKbDAnPTvEKD"
      }
    },
    {
      "cell_type": "markdown",
      "source": [
        "Just trying out"
      ],
      "metadata": {
        "id": "VoTKMT6BYl-2"
      }
    },
    {
      "cell_type": "code",
      "source": [
        "# List of related countries (to Singapore)\n",
        "related_countries = ['Malaysia', 'Indonesia', 'Brunei', 'Thailand', 'Vietnam', 'Philippines']\n",
        "\n",
        "# Ensure the 'Countries' column is split into a list of countries\n",
        "combined_data['Countries'] = combined_data['Countries'].apply(lambda x: x.split(', ') if isinstance(x, str) else [])\n",
        "\n",
        "# Now 'Countries' is a list for each row, and you can continue processing\n",
        "threat_scores_money = {}\n",
        "threat_scores_nomoney = {}\n",
        "\n",
        "def append_threat_score(countriesfunc, countryfunc, score, dictionary):\n",
        "    if countryfunc == 'None' or countryfunc == 'Singapore':\n",
        "        return dictionary\n",
        "    if countryfunc not in dictionary:\n",
        "        dictionary[countryfunc] = 0\n",
        "    if 'Singapore' in countriesfunc:\n",
        "        dictionary[countryfunc] -= score\n",
        "    elif country in related_countries:\n",
        "        dictionary[countryfunc] -= score * 0.5\n",
        "    else:\n",
        "        dictionary[countryfunc] -= score * 0.25\n",
        "    return dictionary\n",
        "\n",
        "# Loop through each row of the combined_data DataFrame\n",
        "for _, row in combined_data.iterrows():\n",
        "    countries = row['Countries']  # List of countries\n",
        "    compound_score = row['Compound']  # Sentiment score for the row\n",
        "    crime_type = row['Crime_Type']\n",
        "\n",
        "    for country in countries:  # Iterate over the countries in the list\n",
        "        if crime_type == 'Economic/Trade/Money-related':\n",
        "            threat_scores_money = append_threat_score(countries, country, compound_score, threat_scores_money)\n",
        "        else:\n",
        "            threat_scores_nomoney = append_threat_score(countries, country, compound_score, threat_scores_nomoney)\n",
        "\n",
        "# Print the final threat scores for each country\n",
        "#print(\"Money\", threat_scores_money)\n",
        "#print(\"NoMoney\", threat_scores_nomoney)\n",
        "\n",
        "# Combine Money and NoMoney data into separate dataframes\n",
        "df_money = pd.DataFrame(list(threat_scores_money.items()), columns=['Country', 'Money']).set_index('Country')\n",
        "df_nomoney = pd.DataFrame(list(threat_scores_nomoney.items()), columns=['Country', 'NoMoney']).set_index('Country')\n",
        "\n",
        "world_map_file = '/content/drive/My Drive/Datathon(SMUISD)/ne_110m_admin_0_countries/ne_110m_admin_0_countries.shp'\n",
        "\n",
        "# Load the world map\n",
        "world = gpd.read_file(world_map_file)\n",
        "\n",
        "# Merge the world map with the Money data\n",
        "world = world.set_index('NAME').join(df_money)\n",
        "\n",
        "# Plot the Money data\n",
        "plt.figure(figsize=(15, 10))\n",
        "ax = world.plot(column='Money', cmap='coolwarm', legend=True,\n",
        "                legend_kwds={'label': \"Money Data by Country\",\n",
        "                             'orientation': \"horizontal\"})\n",
        "plt.title('Money Data on World Map')\n",
        "plt.show()\n",
        "\n",
        "# Load the world map again for the NoMoney data plot\n",
        "world = gpd.read_file(world_map_file)\n",
        "\n",
        "# Merge the world map with the NoMoney data\n",
        "world = world.set_index('NAME').join(df_nomoney)\n",
        "\n",
        "# Plot the NoMoney data\n",
        "plt.figure(figsize=(15, 10))\n",
        "ax = world.plot(column='NoMoney', cmap='coolwarm', legend=True,\n",
        "                legend_kwds={'label': \"NoMoney Data by Country\",\n",
        "                             'orientation': \"horizontal\"})\n",
        "plt.title('NoMoney Data on World Map')\n",
        "plt.show()"
      ],
      "metadata": {
        "id": "ecemSdNEvJPv",
        "colab": {
          "base_uri": "https://localhost:8080/",
          "height": 790
        },
        "outputId": "c90c831d-671c-4c2c-a817-d1545b4ca5d0"
      },
      "execution_count": 11,
      "outputs": [
        {
          "output_type": "display_data",
          "data": {
            "text/plain": [
              "<Figure size 1500x1000 with 0 Axes>"
            ]
          },
          "metadata": {}
        },
        {
          "output_type": "display_data",
          "data": {
            "text/plain": [
              "<Figure size 640x480 with 2 Axes>"
            ],
            "image/png": "[encoded data removed]"
          },
          "metadata": {}
        },
        {
          "output_type": "display_data",
          "data": {
            "text/plain": [
              "<Figure size 1500x1000 with 0 Axes>"
            ]
          },
          "metadata": {}
        },
        {
          "output_type": "display_data",
          "data": {
            "text/plain": [
              "<Figure size 640x480 with 2 Axes>"
            ],
            "image/png": "[encoded data removed]"
          },
          "metadata": {}
        }
      ]
    }
  ]
}